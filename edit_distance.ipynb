{
 "cells": [
  {
   "cell_type": "code",
   "execution_count": 34,
   "metadata": {},
   "outputs": [],
   "source": [
    "import editdistance\n",
    "import pandas as pd\n",
    "import re\n",
    "import receipt_wrappers as receipt"
   ]
  },
  {
   "cell_type": "code",
   "execution_count": 28,
   "metadata": {},
   "outputs": [],
   "source": [
    "sub_re = r'[!-&*-\\-:-@\\[-_()]+'\n",
    "split_re = r' +'"
   ]
  },
  {
   "cell_type": "code",
   "execution_count": 30,
   "metadata": {},
   "outputs": [],
   "source": [
    "def tokenize(string):\n",
    "    return re.split(split_re, re.sub(sub_re,' ', string).lower())"
   ]
  },
  {
   "cell_type": "code",
   "execution_count": 36,
   "metadata": {},
   "outputs": [],
   "source": [
    "def find_distance(pattern_str, text_str):\n",
    "    pattern = tokenize(pattern_str)\n",
    "    text = tokenize(text_str)\n",
    "    tokens_in_pattern = len(pattern)\n",
    "    nearest_dist = float('inf')\n",
    "    for ind in (range(len(text))):\n",
    "        pattern_candidate = ''.join(pattern[ind: ind+tokens_in_pattern])\n",
    "        text_candidate = ''.join(text[ind: ind+tokens_in_pattern])\n",
    "        nearest_dist = min(nearest_dist, editdistance.eval(pattern_candidate, text_candidate))\n",
    "    return nearest_dist"
   ]
  },
  {
   "cell_type": "code",
   "execution_count": 37,
   "metadata": {},
   "outputs": [],
   "source": [
    "users_df = pd.read_csv('data/Users.csv')"
   ]
  },
  {
   "cell_type": "code",
   "execution_count": 38,
   "metadata": {},
   "outputs": [
    {
     "name": "stdout",
     "output_type": "stream",
     "text": [
      "5\n"
     ]
    }
   ],
   "source": [
    "rec = receipt.Receipt('data', '00d0692152542', users_df)\n",
    "print(find_distance('SABNYU STATIONERY SHOP', rec.ocr_str))"
   ]
  }
 ],
 "metadata": {
  "kernelspec": {
   "display_name": "venv",
   "language": "python",
   "name": "python3"
  },
  "language_info": {
   "codemirror_mode": {
    "name": "ipython",
    "version": 3
   },
   "file_extension": ".py",
   "mimetype": "text/x-python",
   "name": "python",
   "nbconvert_exporter": "python",
   "pygments_lexer": "ipython3",
   "version": "3.9.6"
  },
  "orig_nbformat": 4,
  "vscode": {
   "interpreter": {
    "hash": "73d6cd3781a4aec9c4d7b85d071bd0cc39f9a359f634c41cce7cc9efe248ed06"
   }
  }
 },
 "nbformat": 4,
 "nbformat_minor": 2
}
