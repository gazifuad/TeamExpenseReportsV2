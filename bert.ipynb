{
 "cells": [
  {
   "cell_type": "code",
   "execution_count": 1,
   "metadata": {},
   "outputs": [
    {
     "name": "stderr",
     "output_type": "stream",
     "text": [
      "/Users/zoekatz/Desktop/TeamExpenseReportsV2/.venv/lib/python3.9/site-packages/tqdm/auto.py:22: TqdmWarning: IProgress not found. Please update jupyter and ipywidgets. See https://ipywidgets.readthedocs.io/en/stable/user_install.html\n",
      "  from .autonotebook import tqdm as notebook_tqdm\n"
     ]
    }
   ],
   "source": [
    "from sentence_transformers import SentenceTransformer, util"
   ]
  },
  {
   "cell_type": "code",
   "execution_count": 2,
   "metadata": {},
   "outputs": [],
   "source": [
    "import pandas as pd\n",
    "import receipt_wrappers as rw"
   ]
  },
  {
   "cell_type": "code",
   "execution_count": 48,
   "metadata": {},
   "outputs": [],
   "source": [
    "users = pd.read_csv(\"data/Users.csv\")\n",
    "receipts = rw.Receipt.initialize_batch_receipts(\"data/\",users)\n",
    "temp = [r.ocr_str for r in receipts]\n",
    "ocrs = []\n",
    "\n",
    "for t in temp:\n",
    "        if t == None:\n",
    "                ocrs.append(\"\")\n",
    "        else:\n",
    "                ocrs.append(t[:120])\n",
    "        \n",
    "ocrs_id = [r.doc_id for r in receipts]\n",
    "usrs = users[\"vendor_address\"] + \" \" + users[\"vendor_name\"]\n",
    "usrs_id = users[\"documentid\"].values"
   ]
  },
  {
   "cell_type": "code",
   "execution_count": null,
   "metadata": {},
   "outputs": [],
   "source": [
    "model = SentenceTransformer('all-MiniLM-L6-v2')"
   ]
  },
  {
   "cell_type": "code",
   "execution_count": 49,
   "metadata": {},
   "outputs": [],
   "source": [
    "ocr_embeddings = model.encode(ocrs, convert_to_tensor=True)\n"
   ]
  },
  {
   "cell_type": "code",
   "execution_count": 12,
   "metadata": {},
   "outputs": [],
   "source": [
    "usrs_embeddings = model.encode(usrs, convert_to_tensor=True)"
   ]
  },
  {
   "cell_type": "code",
   "execution_count": 50,
   "metadata": {},
   "outputs": [],
   "source": [
    "cosine_scores = util.cos_sim(ocr_embeddings, usrs_embeddings)"
   ]
  },
  {
   "cell_type": "code",
   "execution_count": null,
   "metadata": {},
   "outputs": [],
   "source": [
    "len(cosine_scores)"
   ]
  },
  {
   "cell_type": "code",
   "execution_count": 51,
   "metadata": {},
   "outputs": [],
   "source": [
    "#Find the pairs with the highest cosine similarity scores\n",
    "pairs = []\n",
    "for i in range(len(cosine_scores)-1):\n",
    "    for j in range(i+1, 498):\n",
    "        cosine_row = cosine_scores[i]\n",
    "        cosine = cosine_row[j]\n",
    "        indices = [i, j]\n",
    "        pairs.append({'index': indices, 'score': cosine})"
   ]
  },
  {
   "cell_type": "code",
   "execution_count": null,
   "metadata": {},
   "outputs": [],
   "source": [
    "#Sort scores in decreasing order\n",
    "pairs = sorted(pairs, key=lambda x: x['score'], reverse=True)\n",
    "\n",
    "for pair in pairs[0:3]:\n",
    "    i, j = pair['index']\n",
    "    print(\"{} || {} || Score: {:.4f}\".format(ocrs[i], usrs[j], pair['score']))\n",
    "    print(\"\\n\")"
   ]
  },
  {
   "cell_type": "code",
   "execution_count": 53,
   "metadata": {},
   "outputs": [],
   "source": [
    "final_pairs = []\n",
    "matched_usr = []\n",
    "matched_ocr = []\n",
    "\n",
    "for pair in pairs:\n",
    "        i,j = pair['index']\n",
    "        ocr = ocrs_id[i]\n",
    "        usr = usrs_id[j]\n",
    "        if (usr in matched_usr):\n",
    "                continue\n",
    "        if (ocr in matched_ocr):\n",
    "                continue\n",
    "        matched_usr.append(usr)\n",
    "        matched_ocr.append(ocr)\n",
    "        final_pairs.append((ocr, usr))\n",
    "        if (len(final_pairs) > 498):\n",
    "                break"
   ]
  },
  {
   "cell_type": "code",
   "execution_count": 54,
   "metadata": {},
   "outputs": [
    {
     "data": {
      "text/plain": [
       "376"
      ]
     },
     "execution_count": 54,
     "metadata": {},
     "output_type": "execute_result"
    }
   ],
   "source": [
    "len(final_pairs)"
   ]
  },
  {
   "cell_type": "code",
   "execution_count": 55,
   "metadata": {},
   "outputs": [
    {
     "name": "stdout",
     "output_type": "stream",
     "text": [
      "0.14893617021276595\n"
     ]
    }
   ],
   "source": [
    "correct = 0\n",
    "for x,y in final_pairs:\n",
    "        if (x == y):\n",
    "                correct += 1.0\n",
    "print(correct/376)"
   ]
  }
 ],
 "metadata": {
  "kernelspec": {
   "display_name": ".venv",
   "language": "python",
   "name": "python3"
  },
  "language_info": {
   "codemirror_mode": {
    "name": "ipython",
    "version": 3
   },
   "file_extension": ".py",
   "mimetype": "text/x-python",
   "name": "python",
   "nbconvert_exporter": "python",
   "pygments_lexer": "ipython3",
   "version": "3.9.7"
  },
  "orig_nbformat": 4,
  "vscode": {
   "interpreter": {
    "hash": "cfe02718e0c0198b3be5f5c19cac1a4863ab939364c9409d71589059fb1e8119"
   }
  }
 },
 "nbformat": 4,
 "nbformat_minor": 2
}
